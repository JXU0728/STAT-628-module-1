{
 "cells": [
  {
   "cell_type": "markdown",
   "metadata": {},
   "source": [
    "# Body Fat Data Analysis\n",
    "#### Group members:Yan Chu, Boliang Ma, Jiacheng Xu\n",
    "\n",
    "The goal is to come up with a simple, robust, accurate and precise  “rule-of-thumb” method to estimate percentage of body fat based on the data set.\n",
    "\n",
    "The data set contains measurements from 252 men who had their body fat percentage accurately measured via underwater weighing."
   ]
  },
  {
   "cell_type": "markdown",
   "metadata": {},
   "source": [
    "## Step 1: Analyzing Raw Data"
   ]
  },
  {
   "cell_type": "code",
   "execution_count": 2,
   "metadata": {},
   "outputs": [
    {
     "data": {
      "text/html": [
       "<table>\n",
       "<thead><tr><th></th><th scope=col>Bodyfat</th><th scope=col>Weight</th><th scope=col>Height</th></tr></thead>\n",
       "<tbody>\n",
       "\t<tr><th scope=row>min</th><td> 0.0  </td><td>118.50</td><td>29.50 </td></tr>\n",
       "\t<tr><th scope=row>max</th><td>45.1  </td><td>363.15</td><td>77.75 </td></tr>\n",
       "</tbody>\n",
       "</table>\n"
      ],
      "text/latex": [
       "\\begin{tabular}{r|lll}\n",
       "  & Bodyfat & Weight & Height\\\\\n",
       "\\hline\n",
       "\tmin &  0.0   & 118.50 & 29.50 \\\\\n",
       "\tmax & 45.1   & 363.15 & 77.75 \\\\\n",
       "\\end{tabular}\n"
      ],
      "text/markdown": [
       "\n",
       "| <!--/--> | Bodyfat | Weight | Height | \n",
       "|---|---|\n",
       "| min |  0.0   | 118.50 | 29.50  | \n",
       "| max | 45.1   | 363.15 | 77.75  | \n",
       "\n",
       "\n"
      ],
      "text/plain": [
       "    Bodyfat Weight Height\n",
       "min  0.0    118.50 29.50 \n",
       "max 45.1    363.15 77.75 "
      ]
     },
     "metadata": {},
     "output_type": "display_data"
    }
   ],
   "source": [
    "options(warn = -1)#igonre warnings\n",
    "library(repr); library(car); library(ggplot2); suppressMessages(library(tidyverse))\n",
    "body <- read.csv(\"BodyFat.csv\",header = T)# read data\n",
    "body_fit <- body[,c(-1,-3)]\n",
    "matrix(c(min(body$BODYFAT),max(body$BODYFAT),min(body$WEIGHT),max(body$WEIGHT),min(body$HEIGHT),max(body$HEIGHT)),\n",
    "       ncol = 3,nrow =2,dimnames = list(c(\"min\",\"max\"),c(\"Bodyfat\",\"Weight\",\"Height\")))"
   ]
  },
  {
   "cell_type": "markdown",
   "metadata": {},
   "source": [
    "Frist, we look at raw data summary. The table shows the min-max value of bodyfat, weight and height. We notice that the minimum value of bodyfat is 0, maximum weight is more than 360 pounds, minimum height is 29.50, which may be potential outliers in the future fitting.\n",
    "We notice that the oldest man is already 81 years old, whose data may be not that normal compared to younger people, which we need to be careful in model fitting. \n",
    "The distribution of bodyfat with different age group is different, further, we find that WHO (World Health Organization) define people under 45 years old as youth. It is worthy thinking about there may have different criteria to calculate body fat between the youth and the old. "
   ]
  },
  {
   "cell_type": "markdown",
   "metadata": {},
   "source": [
    "## Step 2: Visualizing Data\n",
    "The plot shows the distribution of some variables which we consider may use in the future in the data set.\n",
    "<img src=\"Plots/hist_for_all.png\" width = \"900\" align = center />"
   ]
  },
  {
   "cell_type": "markdown",
   "metadata": {},
   "source": [
    "The plot shows the relation of bodyfat with different variables in the data set.\n",
    "<img src=\"Plots/ggpairs.png\" width = \"900\" align = center />"
   ]
  },
  {
   "cell_type": "markdown",
   "metadata": {},
   "source": [
    "The plots shows the relation between bodyfat and age, from this plot we can see that there is a trend change within the different age group and we plot the rough threshold on age 45.\n",
    "<img src=\"Plots/bodyfat_vs_age.png\" width = \"666\" align = center />"
   ]
  },
  {
   "cell_type": "markdown",
   "metadata": {},
   "source": []
  },
  {
   "cell_type": "markdown",
   "metadata": {},
   "source": [
    "## Step 3: Statistical Modeling and Analysis\n",
    "### (1) Full data set\n",
    "\n",
    "First, perform test and regression on full data set.\n",
    "We first do naive regression for outliers detection and data cleaning. Based on Cook's distance, we find that point 39, 42, 221, 86 are high influential point, delete them and get the completed regression model. We can see that the fattest man and the shortest man has been out of model."
   ]
  },
  {
   "cell_type": "code",
   "execution_count": 11,
   "metadata": {
    "collapsed": true
   },
   "outputs": [],
   "source": [
    "model5 <- lm(BODYFAT~., data = body_fit[c(-42,-39,-221,-86),]) ##Clean up completed."
   ]
  },
  {
   "cell_type": "markdown",
   "metadata": {},
   "source": [
    "We perform AIC forward and backward regression to select variables. The results are showed in the following table. Since we want a simple, robust, accurate and precise “rule-of-thumb” method, and forward method has similar MSE with backward method but has less variables. So, we based on forward selection, delete 3 variables (forearm, thigh and age) which have relatively less importance scores, also can reduce multicollinearity. So, abdomen, weight and wrist will be the three variables in our final model for full data set."
   ]
  },
  {
   "cell_type": "markdown",
   "metadata": {},
   "source": [
    "|Method | Variable | MSE|\n",
    "|:------ | :-------- | :---|\n",
    "|Forward | Abdomen, Weight, Wrist, Forearm, Thigh, Age | 14.74|\n",
    "|Backward | Age, Weight, Height, Adiposity, Abdomen, Thigh, Forearm, Wrist | 14.55|"
   ]
  },
  {
   "cell_type": "code",
   "execution_count": 12,
   "metadata": {
    "collapsed": true
   },
   "outputs": [],
   "source": [
    "### Based on forward selection, further delete 3 variables for adjust multicollinearity\n",
    "full_final <- lm(BODYFAT~ABDOMEN+WEIGHT+WRIST,body_fit[c(-42, -39, -221, -86),])"
   ]
  },
  {
   "cell_type": "markdown",
   "metadata": {},
   "source": [
    "Then, we divide data into two groups using 45 years old as dividing line. "
   ]
  },
  {
   "cell_type": "markdown",
   "metadata": {
    "collapsed": true
   },
   "source": [
    "### (2). Age under 45 years old"
   ]
  },
  {
   "cell_type": "markdown",
   "metadata": {},
   "source": [
    "For data that age under 45, we do the same procedure again, do naive regression and clean data. Points 42, 31, and 163 are deleted.\n",
    "We perform AIC forward, backward and stepwise regression to select variables. We got 3 models, but all of them show very high multicollinearity, which is not good."
   ]
  },
  {
   "cell_type": "code",
   "execution_count": 16,
   "metadata": {
    "collapsed": true
   },
   "outputs": [],
   "source": [
    "model45_4 <- lm(BODYFAT~., data = body_45[(body_45$IDNO!=42&body_45$IDNO!=31&body_45$IDNO!=163),c(-1,-3)])"
   ]
  },
  {
   "cell_type": "markdown",
   "metadata": {},
   "source": [
    "| Variable | Age | Weight | Height | Adiposity |Neck|Chest|Abdomen|Hip|Thigh|Knee|Ankle|Biceps|Forearm|Wrist|\n",
    "|:----------|:---|:-------|:-------|:----------|:----|:---|:------|:---|:---|:---|:----|:-----|:------|:-----|\n",
    "|VIF Value | 1.41|339.28|60.88|252.94|4.56|10.70|14.07|18.42|9.82|5.26|4.07|5.36|2.05|4.39|"
   ]
  },
  {
   "cell_type": "markdown",
   "metadata": {},
   "source": [
    "Then we remove adiposity based on analysis that abdomen has high correlation with adiposity. We clean data again. Delete point 31 and 42. After delete these two points, we use AIC forward, backward and stepwise to select variables. Although forward selection is good in terms of MSE, model is too complex. So, we choose backward selection, delete age since importance score is lowest. Then we have weight, abdomen, wrist, biceps and ankle as predict variables in final model for people under 45 years old."
   ]
  },
  {
   "cell_type": "code",
   "execution_count": 17,
   "metadata": {
    "collapsed": true,
    "scrolled": true
   },
   "outputs": [],
   "source": [
    "### Although forward selection is good in terms of mse, model is too complex, choose back selection, and delete age\n",
    "under_45_final <- lm(BODYFAT~WEIGHT+ABDOMEN+WRIST+BICEPS+ANKLE,body_45[(body_45$IDNO!=31&body_45$IDNO!=42),c(-1,-3,-7)])"
   ]
  },
  {
   "cell_type": "markdown",
   "metadata": {},
   "source": [
    "### (3). Age beyond 45 years old"
   ]
  },
  {
   "cell_type": "markdown",
   "metadata": {},
   "source": [
    "Then we deploy same procedure on old group. Based on the model we get, we have #39, #86, #221 as high influential point. We delete those data points and do variable selection. We still perform AIC forward, backward regression to select variables. Both methods suggest the same model, it’s simple, predictive and there isn’t obvious multicollinearity. So, in our final model for people beyond 45 years old, we have abdomen and weight as predict variables."
   ]
  },
  {
   "cell_type": "code",
   "execution_count": 18,
   "metadata": {
    "collapsed": true
   },
   "outputs": [],
   "source": [
    "body45_up <- body[body$AGE>45,]\n",
    "model45_up4 <- lm(BODYFAT~.,data = body45_up[(body45_up$IDNO!=39&body45_up$IDNO!=86&body45_up$IDNO!=221),c(-1,-3)]) ##Clean up completed."
   ]
  },
  {
   "cell_type": "code",
   "execution_count": 19,
   "metadata": {
    "collapsed": true
   },
   "outputs": [],
   "source": [
    "#### model is simple, predictive and multicollinearity issue is solved\n",
    "up_45_final <- lm(BODYFAT~ABDOMEN+WEIGHT,body45_up[(body45_up$IDNO!=39&body45_up$IDNO!=86&body45_up$IDNO!=221),c(-1,-3)])"
   ]
  },
  {
   "cell_type": "markdown",
   "metadata": {
    "collapsed": true
   },
   "source": [
    "## Step 4: Model Diagnostics"
   ]
  },
  {
   "cell_type": "markdown",
   "metadata": {},
   "source": [
    "For model diagnostic part, we did assumption test and plot the model fitting plot. The following table shows us all the three models- full data model, divided model with age, are good in terms of Gaussian assumption. Besides, we calculate mean square error with the full data model and combined age-division model. The result shows that there is a improvment in accuracy by fitting with different age group.  "
   ]
  },
  {
   "cell_type": "markdown",
   "metadata": {
    "collapsed": true
   },
   "source": [
    "|Assumption (Method) \\ Model|Full data Model|Under 45 years old|Beyond 45 years old|\n",
    "|:---------------|:--------------|:-----------------|:------------------|\n",
    "|Linearity (crPlot)|Pass|Pass|Pass|\n",
    "|Homoscedasticity (ncvTest)|Pass (p-value = 0.51)|Pass (p-value = 0.13)|Pass (p-value = 0.47)|\n",
    "|Normality (QQplot)|Pass|Pass|Pass|\n",
    "|Independence (DWtest)|Pass (p-value = 0.08)|Pass (p-value = 0.42)|Pass (p-value = 0.87)|"
   ]
  },
  {
   "cell_type": "markdown",
   "metadata": {},
   "source": [
    "|  |Full data model| Combined model|\n",
    "|:-|:-------------|:---------|\n",
    "|MSE|15.32|14.44|"
   ]
  },
  {
   "cell_type": "markdown",
   "metadata": {},
   "source": [
    "## Step 5: Conclusions"
   ]
  },
  {
   "cell_type": "markdown",
   "metadata": {},
   "source": [
    "The model we proposed is following formula: Note that the weight is measured in pounds and others are in centimeters(cm)."
   ]
  },
  {
   "cell_type": "markdown",
   "metadata": {},
   "source": [
    "$$BodyFat\\ \\% = \\begin{cases}\n",
    "-28.927\\ +\\ 0.920ABDOMEN\\ -\\ 0.150WEIGHT\\ -\\ 2.498WRIST\\ +\\ 0.565BICEPS\\ +\\ 0.723ANKLE,\\ if\\ AGE\\ \\leq\\ 45 \\\\\n",
    "-46.224\\ +\\ 0.919ABDOMEN\\ -\\ 0.112WEIGHT,\\ \\ \\ \\ \\ \\ \\ \\ \\ \\ \\ \\ \\ \\ \\ \\ \\  \\ \\ \\ \\ \\ \\ \\ \\ \\ \\ \\ \\ \\ \\ \\ \\ \\ \\  \\ \\ \\ \\  \\ \\ \\ \\ \\ \\ \\ \\ \\ \\ \\ \\ \\ \\ \\ \\ \\ \\ \\ \\ \\ \\ \\ \\ \\ \\ \\ \\ \\ \\ \\ \\ \\ \\ \\ \\ \\  \\ \\ \\  \\ \\  \\ \\ \\ \\ \\ \\   if\\ AGE\\ >\\ 45\n",
    "\\end{cases}$$"
   ]
  },
  {
   "cell_type": "markdown",
   "metadata": {},
   "source": [
    "**Possible rule of thumb:** \n",
    "If you are under 45, measure your abdomen circumference, weight, wrist circumference, biceps circumference and ankle circumference, use the formula below:$$BodyFat\\ \\% = -30\\ +\\ ABDOMEN\\ -\\ 0.1WEIGHT\\ -\\ 2.5WRIST\\ +\\ 0.5BICEPS\\ +\\ ANKLE$$\n",
    "If you are over 45, measure your abdomen circumference and weight, use the formula below:\n",
    "$$BodyFat\\ \\% = -46\\ +\\ ABDOMEN\\ -\\ 0.1WEIGHT$$\n"
   ]
  },
  {
   "cell_type": "markdown",
   "metadata": {},
   "source": [
    "**Inference about Relationship:** The linear relation is significant at 0.05 level in both age group and both model explain more than 73% of the bodyfat."
   ]
  },
  {
   "cell_type": "markdown",
   "metadata": {},
   "source": [
    "**Strengths and Weakness:** We think it is a reasonable model with high explanatory ability"
   ]
  },
  {
   "cell_type": "markdown",
   "metadata": {},
   "source": [
    "1. All assumptions are well satisfied.\n",
    "2. No advanced techniques for dealing with multicollinearity is employed since we just delete the most correlated variables. Maybe we can focus this part in the further work.\n",
    "3. Due to data contraints, our model is unable to predict bodyfat percentage for children or even more older people."
   ]
  },
  {
   "cell_type": "markdown",
   "metadata": {},
   "source": [
    "Overall, our model is a simple, robust, accruate model for predicting bodyfat percentage for normal people aged between 20 and 80."
   ]
  }
 ],
 "metadata": {
  "kernelspec": {
   "display_name": "R",
   "language": "R",
   "name": "ir"
  },
  "language_info": {
   "codemirror_mode": "r",
   "file_extension": ".r",
   "mimetype": "text/x-r-source",
   "name": "R",
   "pygments_lexer": "r",
   "version": "3.4.2"
  }
 },
 "nbformat": 4,
 "nbformat_minor": 2
}
